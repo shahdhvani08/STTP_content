{
 "cells": [
  {
   "cell_type": "code",
   "execution_count": 26,
   "metadata": {
    "collapsed": true
   },
   "outputs": [],
   "source": [
    "import os"
   ]
  },
  {
   "cell_type": "code",
   "execution_count": 27,
   "metadata": {},
   "outputs": [
    {
     "data": {
      "text/plain": [
       "'C:\\\\Users\\\\dhvani'"
      ]
     },
     "execution_count": 27,
     "metadata": {},
     "output_type": "execute_result"
    }
   ],
   "source": [
    "os.getcwd()"
   ]
  },
  {
   "cell_type": "code",
   "execution_count": 28,
   "metadata": {
    "collapsed": true
   },
   "outputs": [],
   "source": [
    "path=\"C:\\\\Users\\\\dhvani\\\\train.csv\""
   ]
  },
  {
   "cell_type": "code",
   "execution_count": 59,
   "metadata": {
    "collapsed": true
   },
   "outputs": [],
   "source": [
    "import pandas as pd"
   ]
  },
  {
   "cell_type": "code",
   "execution_count": 60,
   "metadata": {
    "collapsed": true
   },
   "outputs": [],
   "source": [
    "#allfiles = glob.glob(path+\"/*.csv\")"
   ]
  },
  {
   "cell_type": "code",
   "execution_count": 61,
   "metadata": {
    "collapsed": true
   },
   "outputs": [],
   "source": [
    "#allfiles"
   ]
  },
  {
   "cell_type": "code",
   "execution_count": 62,
   "metadata": {
    "collapsed": true
   },
   "outputs": [],
   "source": [
    "df = pd.read_csv('train.csv')"
   ]
  },
  {
   "cell_type": "code",
   "execution_count": 63,
   "metadata": {},
   "outputs": [
    {
     "data": {
      "text/html": [
       "<div>\n",
       "<table border=\"1\" class=\"dataframe\">\n",
       "  <thead>\n",
       "    <tr style=\"text-align: right;\">\n",
       "      <th></th>\n",
       "      <th>Unnamed: 0</th>\n",
       "      <th>Borivali</th>\n",
       "      <th>Andheri</th>\n",
       "      <th>Bandra</th>\n",
       "      <th>Dadar</th>\n",
       "      <th>Churchgate</th>\n",
       "      <th>class</th>\n",
       "    </tr>\n",
       "  </thead>\n",
       "  <tbody>\n",
       "    <tr>\n",
       "      <th>0</th>\n",
       "      <td>0</td>\n",
       "      <td>140</td>\n",
       "      <td>3</td>\n",
       "      <td>41</td>\n",
       "      <td>153</td>\n",
       "      <td>63</td>\n",
       "      <td>DBCC</td>\n",
       "    </tr>\n",
       "    <tr>\n",
       "      <th>1</th>\n",
       "      <td>1</td>\n",
       "      <td>102</td>\n",
       "      <td>38</td>\n",
       "      <td>224</td>\n",
       "      <td>7</td>\n",
       "      <td>29</td>\n",
       "      <td>bbBC</td>\n",
       "    </tr>\n",
       "    <tr>\n",
       "      <th>2</th>\n",
       "      <td>2</td>\n",
       "      <td>37</td>\n",
       "      <td>134</td>\n",
       "      <td>86</td>\n",
       "      <td>125</td>\n",
       "      <td>18</td>\n",
       "      <td>ADbC</td>\n",
       "    </tr>\n",
       "    <tr>\n",
       "      <th>3</th>\n",
       "      <td>3</td>\n",
       "      <td>57</td>\n",
       "      <td>19</td>\n",
       "      <td>160</td>\n",
       "      <td>35</td>\n",
       "      <td>129</td>\n",
       "      <td>bCCC</td>\n",
       "    </tr>\n",
       "    <tr>\n",
       "      <th>4</th>\n",
       "      <td>4</td>\n",
       "      <td>70</td>\n",
       "      <td>4</td>\n",
       "      <td>91</td>\n",
       "      <td>89</td>\n",
       "      <td>146</td>\n",
       "      <td>CCDC</td>\n",
       "    </tr>\n",
       "    <tr>\n",
       "      <th>5</th>\n",
       "      <td>5</td>\n",
       "      <td>146</td>\n",
       "      <td>101</td>\n",
       "      <td>18</td>\n",
       "      <td>69</td>\n",
       "      <td>66</td>\n",
       "      <td>BACC</td>\n",
       "    </tr>\n",
       "    <tr>\n",
       "      <th>6</th>\n",
       "      <td>6</td>\n",
       "      <td>1</td>\n",
       "      <td>214</td>\n",
       "      <td>146</td>\n",
       "      <td>38</td>\n",
       "      <td>1</td>\n",
       "      <td>AbAC</td>\n",
       "    </tr>\n",
       "    <tr>\n",
       "      <th>7</th>\n",
       "      <td>7</td>\n",
       "      <td>105</td>\n",
       "      <td>20</td>\n",
       "      <td>190</td>\n",
       "      <td>3</td>\n",
       "      <td>82</td>\n",
       "      <td>BbCC</td>\n",
       "    </tr>\n",
       "    <tr>\n",
       "      <th>8</th>\n",
       "      <td>8</td>\n",
       "      <td>48</td>\n",
       "      <td>32</td>\n",
       "      <td>157</td>\n",
       "      <td>23</td>\n",
       "      <td>140</td>\n",
       "      <td>bCCC</td>\n",
       "    </tr>\n",
       "    <tr>\n",
       "      <th>9</th>\n",
       "      <td>9</td>\n",
       "      <td>50</td>\n",
       "      <td>28</td>\n",
       "      <td>26</td>\n",
       "      <td>27</td>\n",
       "      <td>269</td>\n",
       "      <td>CCCb</td>\n",
       "    </tr>\n",
       "    <tr>\n",
       "      <th>10</th>\n",
       "      <td>10</td>\n",
       "      <td>26</td>\n",
       "      <td>8</td>\n",
       "      <td>125</td>\n",
       "      <td>90</td>\n",
       "      <td>151</td>\n",
       "      <td>CbCC</td>\n",
       "    </tr>\n",
       "    <tr>\n",
       "      <th>11</th>\n",
       "      <td>11</td>\n",
       "      <td>226</td>\n",
       "      <td>22</td>\n",
       "      <td>93</td>\n",
       "      <td>37</td>\n",
       "      <td>22</td>\n",
       "      <td>BBDC</td>\n",
       "    </tr>\n",
       "    <tr>\n",
       "      <th>12</th>\n",
       "      <td>12</td>\n",
       "      <td>113</td>\n",
       "      <td>88</td>\n",
       "      <td>139</td>\n",
       "      <td>24</td>\n",
       "      <td>36</td>\n",
       "      <td>bBBC</td>\n",
       "    </tr>\n",
       "    <tr>\n",
       "      <th>13</th>\n",
       "      <td>13</td>\n",
       "      <td>134</td>\n",
       "      <td>85</td>\n",
       "      <td>41</td>\n",
       "      <td>67</td>\n",
       "      <td>73</td>\n",
       "      <td>BbCC</td>\n",
       "    </tr>\n",
       "    <tr>\n",
       "      <th>14</th>\n",
       "      <td>14</td>\n",
       "      <td>165</td>\n",
       "      <td>90</td>\n",
       "      <td>50</td>\n",
       "      <td>71</td>\n",
       "      <td>24</td>\n",
       "      <td>BbCb</td>\n",
       "    </tr>\n",
       "    <tr>\n",
       "      <th>15</th>\n",
       "      <td>15</td>\n",
       "      <td>187</td>\n",
       "      <td>68</td>\n",
       "      <td>4</td>\n",
       "      <td>116</td>\n",
       "      <td>25</td>\n",
       "      <td>BDAC</td>\n",
       "    </tr>\n",
       "    <tr>\n",
       "      <th>16</th>\n",
       "      <td>16</td>\n",
       "      <td>21</td>\n",
       "      <td>24</td>\n",
       "      <td>218</td>\n",
       "      <td>115</td>\n",
       "      <td>22</td>\n",
       "      <td>bbDC</td>\n",
       "    </tr>\n",
       "    <tr>\n",
       "      <th>17</th>\n",
       "      <td>17</td>\n",
       "      <td>95</td>\n",
       "      <td>189</td>\n",
       "      <td>26</td>\n",
       "      <td>40</td>\n",
       "      <td>50</td>\n",
       "      <td>AAbC</td>\n",
       "    </tr>\n",
       "    <tr>\n",
       "      <th>18</th>\n",
       "      <td>18</td>\n",
       "      <td>91</td>\n",
       "      <td>131</td>\n",
       "      <td>101</td>\n",
       "      <td>49</td>\n",
       "      <td>28</td>\n",
       "      <td>AbAC</td>\n",
       "    </tr>\n",
       "    <tr>\n",
       "      <th>19</th>\n",
       "      <td>19</td>\n",
       "      <td>78</td>\n",
       "      <td>70</td>\n",
       "      <td>2</td>\n",
       "      <td>99</td>\n",
       "      <td>151</td>\n",
       "      <td>CCAC</td>\n",
       "    </tr>\n",
       "    <tr>\n",
       "      <th>20</th>\n",
       "      <td>20</td>\n",
       "      <td>139</td>\n",
       "      <td>102</td>\n",
       "      <td>90</td>\n",
       "      <td>56</td>\n",
       "      <td>13</td>\n",
       "      <td>BAbC</td>\n",
       "    </tr>\n",
       "    <tr>\n",
       "      <th>21</th>\n",
       "      <td>21</td>\n",
       "      <td>56</td>\n",
       "      <td>27</td>\n",
       "      <td>159</td>\n",
       "      <td>62</td>\n",
       "      <td>96</td>\n",
       "      <td>bDCA</td>\n",
       "    </tr>\n",
       "    <tr>\n",
       "      <th>22</th>\n",
       "      <td>22</td>\n",
       "      <td>28</td>\n",
       "      <td>41</td>\n",
       "      <td>188</td>\n",
       "      <td>39</td>\n",
       "      <td>104</td>\n",
       "      <td>bCCA</td>\n",
       "    </tr>\n",
       "    <tr>\n",
       "      <th>23</th>\n",
       "      <td>23</td>\n",
       "      <td>40</td>\n",
       "      <td>23</td>\n",
       "      <td>140</td>\n",
       "      <td>36</td>\n",
       "      <td>161</td>\n",
       "      <td>bCCA</td>\n",
       "    </tr>\n",
       "    <tr>\n",
       "      <th>24</th>\n",
       "      <td>24</td>\n",
       "      <td>26</td>\n",
       "      <td>127</td>\n",
       "      <td>5</td>\n",
       "      <td>46</td>\n",
       "      <td>196</td>\n",
       "      <td>CCAD</td>\n",
       "    </tr>\n",
       "    <tr>\n",
       "      <th>25</th>\n",
       "      <td>25</td>\n",
       "      <td>132</td>\n",
       "      <td>33</td>\n",
       "      <td>109</td>\n",
       "      <td>55</td>\n",
       "      <td>71</td>\n",
       "      <td>BbbC</td>\n",
       "    </tr>\n",
       "    <tr>\n",
       "      <th>26</th>\n",
       "      <td>26</td>\n",
       "      <td>267</td>\n",
       "      <td>7</td>\n",
       "      <td>6</td>\n",
       "      <td>71</td>\n",
       "      <td>49</td>\n",
       "      <td>BBDC</td>\n",
       "    </tr>\n",
       "    <tr>\n",
       "      <th>27</th>\n",
       "      <td>27</td>\n",
       "      <td>73</td>\n",
       "      <td>169</td>\n",
       "      <td>20</td>\n",
       "      <td>105</td>\n",
       "      <td>33</td>\n",
       "      <td>ADDC</td>\n",
       "    </tr>\n",
       "    <tr>\n",
       "      <th>28</th>\n",
       "      <td>28</td>\n",
       "      <td>3</td>\n",
       "      <td>120</td>\n",
       "      <td>24</td>\n",
       "      <td>137</td>\n",
       "      <td>116</td>\n",
       "      <td>DCCA</td>\n",
       "    </tr>\n",
       "    <tr>\n",
       "      <th>29</th>\n",
       "      <td>29</td>\n",
       "      <td>51</td>\n",
       "      <td>116</td>\n",
       "      <td>29</td>\n",
       "      <td>20</td>\n",
       "      <td>184</td>\n",
       "      <td>CCAb</td>\n",
       "    </tr>\n",
       "    <tr>\n",
       "      <th>30</th>\n",
       "      <td>30</td>\n",
       "      <td>141</td>\n",
       "      <td>34</td>\n",
       "      <td>64</td>\n",
       "      <td>72</td>\n",
       "      <td>89</td>\n",
       "      <td>BCDD</td>\n",
       "    </tr>\n",
       "    <tr>\n",
       "      <th>31</th>\n",
       "      <td>31</td>\n",
       "      <td>122</td>\n",
       "      <td>114</td>\n",
       "      <td>19</td>\n",
       "      <td>84</td>\n",
       "      <td>61</td>\n",
       "      <td>BADC</td>\n",
       "    </tr>\n",
       "    <tr>\n",
       "      <th>32</th>\n",
       "      <td>32</td>\n",
       "      <td>92</td>\n",
       "      <td>130</td>\n",
       "      <td>52</td>\n",
       "      <td>30</td>\n",
       "      <td>96</td>\n",
       "      <td>ACDB</td>\n",
       "    </tr>\n",
       "    <tr>\n",
       "      <th>33</th>\n",
       "      <td>33</td>\n",
       "      <td>85</td>\n",
       "      <td>221</td>\n",
       "      <td>1</td>\n",
       "      <td>36</td>\n",
       "      <td>57</td>\n",
       "      <td>AABC</td>\n",
       "    </tr>\n",
       "    <tr>\n",
       "      <th>34</th>\n",
       "      <td>34</td>\n",
       "      <td>82</td>\n",
       "      <td>81</td>\n",
       "      <td>63</td>\n",
       "      <td>14</td>\n",
       "      <td>160</td>\n",
       "      <td>CCbA</td>\n",
       "    </tr>\n",
       "    <tr>\n",
       "      <th>35</th>\n",
       "      <td>35</td>\n",
       "      <td>64</td>\n",
       "      <td>4</td>\n",
       "      <td>212</td>\n",
       "      <td>8</td>\n",
       "      <td>112</td>\n",
       "      <td>BBCC</td>\n",
       "    </tr>\n",
       "    <tr>\n",
       "      <th>36</th>\n",
       "      <td>36</td>\n",
       "      <td>178</td>\n",
       "      <td>75</td>\n",
       "      <td>6</td>\n",
       "      <td>15</td>\n",
       "      <td>126</td>\n",
       "      <td>BACC</td>\n",
       "    </tr>\n",
       "    <tr>\n",
       "      <th>37</th>\n",
       "      <td>37</td>\n",
       "      <td>117</td>\n",
       "      <td>10</td>\n",
       "      <td>3</td>\n",
       "      <td>250</td>\n",
       "      <td>20</td>\n",
       "      <td>DDCB</td>\n",
       "    </tr>\n",
       "    <tr>\n",
       "      <th>38</th>\n",
       "      <td>38</td>\n",
       "      <td>7</td>\n",
       "      <td>89</td>\n",
       "      <td>99</td>\n",
       "      <td>156</td>\n",
       "      <td>49</td>\n",
       "      <td>DCbA</td>\n",
       "    </tr>\n",
       "    <tr>\n",
       "      <th>39</th>\n",
       "      <td>39</td>\n",
       "      <td>13</td>\n",
       "      <td>94</td>\n",
       "      <td>138</td>\n",
       "      <td>6</td>\n",
       "      <td>149</td>\n",
       "      <td>CCbA</td>\n",
       "    </tr>\n",
       "    <tr>\n",
       "      <th>40</th>\n",
       "      <td>40</td>\n",
       "      <td>26</td>\n",
       "      <td>135</td>\n",
       "      <td>113</td>\n",
       "      <td>84</td>\n",
       "      <td>42</td>\n",
       "      <td>AbDC</td>\n",
       "    </tr>\n",
       "    <tr>\n",
       "      <th>41</th>\n",
       "      <td>41</td>\n",
       "      <td>64</td>\n",
       "      <td>26</td>\n",
       "      <td>23</td>\n",
       "      <td>153</td>\n",
       "      <td>134</td>\n",
       "      <td>DCCb</td>\n",
       "    </tr>\n",
       "    <tr>\n",
       "      <th>42</th>\n",
       "      <td>42</td>\n",
       "      <td>1</td>\n",
       "      <td>154</td>\n",
       "      <td>27</td>\n",
       "      <td>32</td>\n",
       "      <td>186</td>\n",
       "      <td>CAAD</td>\n",
       "    </tr>\n",
       "    <tr>\n",
       "      <th>43</th>\n",
       "      <td>43</td>\n",
       "      <td>214</td>\n",
       "      <td>45</td>\n",
       "      <td>29</td>\n",
       "      <td>101</td>\n",
       "      <td>11</td>\n",
       "      <td>BBDC</td>\n",
       "    </tr>\n",
       "    <tr>\n",
       "      <th>44</th>\n",
       "      <td>44</td>\n",
       "      <td>9</td>\n",
       "      <td>149</td>\n",
       "      <td>199</td>\n",
       "      <td>7</td>\n",
       "      <td>36</td>\n",
       "      <td>bbAC</td>\n",
       "    </tr>\n",
       "    <tr>\n",
       "      <th>45</th>\n",
       "      <td>45</td>\n",
       "      <td>149</td>\n",
       "      <td>80</td>\n",
       "      <td>47</td>\n",
       "      <td>40</td>\n",
       "      <td>84</td>\n",
       "      <td>BCAD</td>\n",
       "    </tr>\n",
       "    <tr>\n",
       "      <th>46</th>\n",
       "      <td>46</td>\n",
       "      <td>4</td>\n",
       "      <td>1</td>\n",
       "      <td>25</td>\n",
       "      <td>183</td>\n",
       "      <td>187</td>\n",
       "      <td>CCDD</td>\n",
       "    </tr>\n",
       "    <tr>\n",
       "      <th>47</th>\n",
       "      <td>47</td>\n",
       "      <td>112</td>\n",
       "      <td>67</td>\n",
       "      <td>84</td>\n",
       "      <td>90</td>\n",
       "      <td>47</td>\n",
       "      <td>BDDC</td>\n",
       "    </tr>\n",
       "    <tr>\n",
       "      <th>48</th>\n",
       "      <td>48</td>\n",
       "      <td>136</td>\n",
       "      <td>1</td>\n",
       "      <td>190</td>\n",
       "      <td>34</td>\n",
       "      <td>39</td>\n",
       "      <td>bBBC</td>\n",
       "    </tr>\n",
       "    <tr>\n",
       "      <th>49</th>\n",
       "      <td>49</td>\n",
       "      <td>93</td>\n",
       "      <td>77</td>\n",
       "      <td>133</td>\n",
       "      <td>6</td>\n",
       "      <td>91</td>\n",
       "      <td>bBDC</td>\n",
       "    </tr>\n",
       "    <tr>\n",
       "      <th>50</th>\n",
       "      <td>50</td>\n",
       "      <td>68</td>\n",
       "      <td>75</td>\n",
       "      <td>131</td>\n",
       "      <td>40</td>\n",
       "      <td>86</td>\n",
       "      <td>bCbC</td>\n",
       "    </tr>\n",
       "    <tr>\n",
       "      <th>51</th>\n",
       "      <td>51</td>\n",
       "      <td>28</td>\n",
       "      <td>30</td>\n",
       "      <td>179</td>\n",
       "      <td>47</td>\n",
       "      <td>116</td>\n",
       "      <td>bCCD</td>\n",
       "    </tr>\n",
       "    <tr>\n",
       "      <th>52</th>\n",
       "      <td>52</td>\n",
       "      <td>136</td>\n",
       "      <td>6</td>\n",
       "      <td>128</td>\n",
       "      <td>22</td>\n",
       "      <td>108</td>\n",
       "      <td>BCbA</td>\n",
       "    </tr>\n",
       "    <tr>\n",
       "      <th>53</th>\n",
       "      <td>53</td>\n",
       "      <td>85</td>\n",
       "      <td>4</td>\n",
       "      <td>71</td>\n",
       "      <td>131</td>\n",
       "      <td>109</td>\n",
       "      <td>DCbB</td>\n",
       "    </tr>\n",
       "    <tr>\n",
       "      <th>54</th>\n",
       "      <td>54</td>\n",
       "      <td>15</td>\n",
       "      <td>56</td>\n",
       "      <td>221</td>\n",
       "      <td>4</td>\n",
       "      <td>104</td>\n",
       "      <td>bCAB</td>\n",
       "    </tr>\n",
       "    <tr>\n",
       "      <th>55</th>\n",
       "      <td>55</td>\n",
       "      <td>153</td>\n",
       "      <td>80</td>\n",
       "      <td>137</td>\n",
       "      <td>20</td>\n",
       "      <td>10</td>\n",
       "      <td>bBDA</td>\n",
       "    </tr>\n",
       "    <tr>\n",
       "      <th>56</th>\n",
       "      <td>56</td>\n",
       "      <td>44</td>\n",
       "      <td>10</td>\n",
       "      <td>25</td>\n",
       "      <td>217</td>\n",
       "      <td>104</td>\n",
       "      <td>DCBb</td>\n",
       "    </tr>\n",
       "    <tr>\n",
       "      <th>57</th>\n",
       "      <td>57</td>\n",
       "      <td>93</td>\n",
       "      <td>76</td>\n",
       "      <td>14</td>\n",
       "      <td>13</td>\n",
       "      <td>204</td>\n",
       "      <td>CCCD</td>\n",
       "    </tr>\n",
       "    <tr>\n",
       "      <th>58</th>\n",
       "      <td>58</td>\n",
       "      <td>63</td>\n",
       "      <td>40</td>\n",
       "      <td>44</td>\n",
       "      <td>88</td>\n",
       "      <td>165</td>\n",
       "      <td>CCBb</td>\n",
       "    </tr>\n",
       "    <tr>\n",
       "      <th>59</th>\n",
       "      <td>59</td>\n",
       "      <td>31</td>\n",
       "      <td>25</td>\n",
       "      <td>200</td>\n",
       "      <td>111</td>\n",
       "      <td>33</td>\n",
       "      <td>bbDC</td>\n",
       "    </tr>\n",
       "  </tbody>\n",
       "</table>\n",
       "</div>"
      ],
      "text/plain": [
       "    Unnamed: 0  Borivali  Andheri  Bandra  Dadar  Churchgate class\n",
       "0            0       140        3      41    153          63  DBCC\n",
       "1            1       102       38     224      7          29  bbBC\n",
       "2            2        37      134      86    125          18  ADbC\n",
       "3            3        57       19     160     35         129  bCCC\n",
       "4            4        70        4      91     89         146  CCDC\n",
       "5            5       146      101      18     69          66  BACC\n",
       "6            6         1      214     146     38           1  AbAC\n",
       "7            7       105       20     190      3          82  BbCC\n",
       "8            8        48       32     157     23         140  bCCC\n",
       "9            9        50       28      26     27         269  CCCb\n",
       "10          10        26        8     125     90         151  CbCC\n",
       "11          11       226       22      93     37          22  BBDC\n",
       "12          12       113       88     139     24          36  bBBC\n",
       "13          13       134       85      41     67          73  BbCC\n",
       "14          14       165       90      50     71          24  BbCb\n",
       "15          15       187       68       4    116          25  BDAC\n",
       "16          16        21       24     218    115          22  bbDC\n",
       "17          17        95      189      26     40          50  AAbC\n",
       "18          18        91      131     101     49          28  AbAC\n",
       "19          19        78       70       2     99         151  CCAC\n",
       "20          20       139      102      90     56          13  BAbC\n",
       "21          21        56       27     159     62          96  bDCA\n",
       "22          22        28       41     188     39         104  bCCA\n",
       "23          23        40       23     140     36         161  bCCA\n",
       "24          24        26      127       5     46         196  CCAD\n",
       "25          25       132       33     109     55          71  BbbC\n",
       "26          26       267        7       6     71          49  BBDC\n",
       "27          27        73      169      20    105          33  ADDC\n",
       "28          28         3      120      24    137         116  DCCA\n",
       "29          29        51      116      29     20         184  CCAb\n",
       "30          30       141       34      64     72          89  BCDD\n",
       "31          31       122      114      19     84          61  BADC\n",
       "32          32        92      130      52     30          96  ACDB\n",
       "33          33        85      221       1     36          57  AABC\n",
       "34          34        82       81      63     14         160  CCbA\n",
       "35          35        64        4     212      8         112  BBCC\n",
       "36          36       178       75       6     15         126  BACC\n",
       "37          37       117       10       3    250          20  DDCB\n",
       "38          38         7       89      99    156          49  DCbA\n",
       "39          39        13       94     138      6         149  CCbA\n",
       "40          40        26      135     113     84          42  AbDC\n",
       "41          41        64       26      23    153         134  DCCb\n",
       "42          42         1      154      27     32         186  CAAD\n",
       "43          43       214       45      29    101          11  BBDC\n",
       "44          44         9      149     199      7          36  bbAC\n",
       "45          45       149       80      47     40          84  BCAD\n",
       "46          46         4        1      25    183         187  CCDD\n",
       "47          47       112       67      84     90          47  BDDC\n",
       "48          48       136        1     190     34          39  bBBC\n",
       "49          49        93       77     133      6          91  bBDC\n",
       "50          50        68       75     131     40          86  bCbC\n",
       "51          51        28       30     179     47         116  bCCD\n",
       "52          52       136        6     128     22         108  BCbA\n",
       "53          53        85        4      71    131         109  DCbB\n",
       "54          54        15       56     221      4         104  bCAB\n",
       "55          55       153       80     137     20          10  bBDA\n",
       "56          56        44       10      25    217         104  DCBb\n",
       "57          57        93       76      14     13         204  CCCD\n",
       "58          58        63       40      44     88         165  CCBb\n",
       "59          59        31       25     200    111          33  bbDC"
      ]
     },
     "execution_count": 63,
     "metadata": {},
     "output_type": "execute_result"
    }
   ],
   "source": [
    "df"
   ]
  },
  {
   "cell_type": "code",
   "execution_count": 64,
   "metadata": {
    "collapsed": true
   },
   "outputs": [],
   "source": [
    "df = pd.read_csv(\"train.csv\",index_col=0)"
   ]
  },
  {
   "cell_type": "code",
   "execution_count": 65,
   "metadata": {},
   "outputs": [
    {
     "data": {
      "text/html": [
       "<div>\n",
       "<table border=\"1\" class=\"dataframe\">\n",
       "  <thead>\n",
       "    <tr style=\"text-align: right;\">\n",
       "      <th></th>\n",
       "      <th>Borivali</th>\n",
       "      <th>Andheri</th>\n",
       "      <th>Bandra</th>\n",
       "      <th>Dadar</th>\n",
       "      <th>Churchgate</th>\n",
       "      <th>class</th>\n",
       "    </tr>\n",
       "  </thead>\n",
       "  <tbody>\n",
       "    <tr>\n",
       "      <th>0</th>\n",
       "      <td>140</td>\n",
       "      <td>3</td>\n",
       "      <td>41</td>\n",
       "      <td>153</td>\n",
       "      <td>63</td>\n",
       "      <td>DBCC</td>\n",
       "    </tr>\n",
       "    <tr>\n",
       "      <th>1</th>\n",
       "      <td>102</td>\n",
       "      <td>38</td>\n",
       "      <td>224</td>\n",
       "      <td>7</td>\n",
       "      <td>29</td>\n",
       "      <td>bbBC</td>\n",
       "    </tr>\n",
       "    <tr>\n",
       "      <th>2</th>\n",
       "      <td>37</td>\n",
       "      <td>134</td>\n",
       "      <td>86</td>\n",
       "      <td>125</td>\n",
       "      <td>18</td>\n",
       "      <td>ADbC</td>\n",
       "    </tr>\n",
       "    <tr>\n",
       "      <th>3</th>\n",
       "      <td>57</td>\n",
       "      <td>19</td>\n",
       "      <td>160</td>\n",
       "      <td>35</td>\n",
       "      <td>129</td>\n",
       "      <td>bCCC</td>\n",
       "    </tr>\n",
       "    <tr>\n",
       "      <th>4</th>\n",
       "      <td>70</td>\n",
       "      <td>4</td>\n",
       "      <td>91</td>\n",
       "      <td>89</td>\n",
       "      <td>146</td>\n",
       "      <td>CCDC</td>\n",
       "    </tr>\n",
       "  </tbody>\n",
       "</table>\n",
       "</div>"
      ],
      "text/plain": [
       "   Borivali  Andheri  Bandra  Dadar  Churchgate class\n",
       "0       140        3      41    153          63  DBCC\n",
       "1       102       38     224      7          29  bbBC\n",
       "2        37      134      86    125          18  ADbC\n",
       "3        57       19     160     35         129  bCCC\n",
       "4        70        4      91     89         146  CCDC"
      ]
     },
     "execution_count": 65,
     "metadata": {},
     "output_type": "execute_result"
    }
   ],
   "source": [
    "df.head() #borivali=B"
   ]
  },
  {
   "cell_type": "code",
   "execution_count": 66,
   "metadata": {},
   "outputs": [
    {
     "data": {
      "text/html": [
       "<div>\n",
       "<table border=\"1\" class=\"dataframe\">\n",
       "  <thead>\n",
       "    <tr style=\"text-align: right;\">\n",
       "      <th></th>\n",
       "      <th>Borivali</th>\n",
       "      <th>Andheri</th>\n",
       "      <th>Bandra</th>\n",
       "      <th>Dadar</th>\n",
       "      <th>Churchgate</th>\n",
       "      <th>class</th>\n",
       "    </tr>\n",
       "  </thead>\n",
       "  <tbody>\n",
       "    <tr>\n",
       "      <th>55</th>\n",
       "      <td>153</td>\n",
       "      <td>80</td>\n",
       "      <td>137</td>\n",
       "      <td>20</td>\n",
       "      <td>10</td>\n",
       "      <td>bBDA</td>\n",
       "    </tr>\n",
       "    <tr>\n",
       "      <th>56</th>\n",
       "      <td>44</td>\n",
       "      <td>10</td>\n",
       "      <td>25</td>\n",
       "      <td>217</td>\n",
       "      <td>104</td>\n",
       "      <td>DCBb</td>\n",
       "    </tr>\n",
       "    <tr>\n",
       "      <th>57</th>\n",
       "      <td>93</td>\n",
       "      <td>76</td>\n",
       "      <td>14</td>\n",
       "      <td>13</td>\n",
       "      <td>204</td>\n",
       "      <td>CCCD</td>\n",
       "    </tr>\n",
       "    <tr>\n",
       "      <th>58</th>\n",
       "      <td>63</td>\n",
       "      <td>40</td>\n",
       "      <td>44</td>\n",
       "      <td>88</td>\n",
       "      <td>165</td>\n",
       "      <td>CCBb</td>\n",
       "    </tr>\n",
       "    <tr>\n",
       "      <th>59</th>\n",
       "      <td>31</td>\n",
       "      <td>25</td>\n",
       "      <td>200</td>\n",
       "      <td>111</td>\n",
       "      <td>33</td>\n",
       "      <td>bbDC</td>\n",
       "    </tr>\n",
       "  </tbody>\n",
       "</table>\n",
       "</div>"
      ],
      "text/plain": [
       "    Borivali  Andheri  Bandra  Dadar  Churchgate class\n",
       "55       153       80     137     20          10  bBDA\n",
       "56        44       10      25    217         104  DCBb\n",
       "57        93       76      14     13         204  CCCD\n",
       "58        63       40      44     88         165  CCBb\n",
       "59        31       25     200    111          33  bbDC"
      ]
     },
     "execution_count": 66,
     "metadata": {},
     "output_type": "execute_result"
    }
   ],
   "source": [
    "df.tail()"
   ]
  },
  {
   "cell_type": "code",
   "execution_count": 67,
   "metadata": {},
   "outputs": [
    {
     "data": {
      "text/html": [
       "<div>\n",
       "<table border=\"1\" class=\"dataframe\">\n",
       "  <thead>\n",
       "    <tr style=\"text-align: right;\">\n",
       "      <th></th>\n",
       "      <th>Borivali</th>\n",
       "      <th>Andheri</th>\n",
       "      <th>Bandra</th>\n",
       "      <th>Dadar</th>\n",
       "      <th>Churchgate</th>\n",
       "      <th>class</th>\n",
       "    </tr>\n",
       "  </thead>\n",
       "  <tbody>\n",
       "    <tr>\n",
       "      <th>0</th>\n",
       "      <td>140</td>\n",
       "      <td>3</td>\n",
       "      <td>41</td>\n",
       "      <td>153</td>\n",
       "      <td>63</td>\n",
       "      <td>DBCC</td>\n",
       "    </tr>\n",
       "    <tr>\n",
       "      <th>1</th>\n",
       "      <td>102</td>\n",
       "      <td>38</td>\n",
       "      <td>224</td>\n",
       "      <td>7</td>\n",
       "      <td>29</td>\n",
       "      <td>bbBC</td>\n",
       "    </tr>\n",
       "    <tr>\n",
       "      <th>2</th>\n",
       "      <td>37</td>\n",
       "      <td>134</td>\n",
       "      <td>86</td>\n",
       "      <td>125</td>\n",
       "      <td>18</td>\n",
       "      <td>ADbC</td>\n",
       "    </tr>\n",
       "    <tr>\n",
       "      <th>3</th>\n",
       "      <td>57</td>\n",
       "      <td>19</td>\n",
       "      <td>160</td>\n",
       "      <td>35</td>\n",
       "      <td>129</td>\n",
       "      <td>bCCC</td>\n",
       "    </tr>\n",
       "    <tr>\n",
       "      <th>4</th>\n",
       "      <td>70</td>\n",
       "      <td>4</td>\n",
       "      <td>91</td>\n",
       "      <td>89</td>\n",
       "      <td>146</td>\n",
       "      <td>CCDC</td>\n",
       "    </tr>\n",
       "  </tbody>\n",
       "</table>\n",
       "</div>"
      ],
      "text/plain": [
       "   Borivali  Andheri  Bandra  Dadar  Churchgate class\n",
       "0       140        3      41    153          63  DBCC\n",
       "1       102       38     224      7          29  bbBC\n",
       "2        37      134      86    125          18  ADbC\n",
       "3        57       19     160     35         129  bCCC\n",
       "4        70        4      91     89         146  CCDC"
      ]
     },
     "execution_count": 67,
     "metadata": {},
     "output_type": "execute_result"
    }
   ],
   "source": [
    "df[0:5]  #works for rows"
   ]
  },
  {
   "cell_type": "code",
   "execution_count": 68,
   "metadata": {},
   "outputs": [
    {
     "data": {
      "text/html": [
       "<div>\n",
       "<table border=\"1\" class=\"dataframe\">\n",
       "  <thead>\n",
       "    <tr style=\"text-align: right;\">\n",
       "      <th></th>\n",
       "      <th>Borivali</th>\n",
       "      <th>Andheri</th>\n",
       "    </tr>\n",
       "  </thead>\n",
       "  <tbody>\n",
       "    <tr>\n",
       "      <th>0</th>\n",
       "      <td>140</td>\n",
       "      <td>3</td>\n",
       "    </tr>\n",
       "    <tr>\n",
       "      <th>1</th>\n",
       "      <td>102</td>\n",
       "      <td>38</td>\n",
       "    </tr>\n",
       "    <tr>\n",
       "      <th>2</th>\n",
       "      <td>37</td>\n",
       "      <td>134</td>\n",
       "    </tr>\n",
       "    <tr>\n",
       "      <th>3</th>\n",
       "      <td>57</td>\n",
       "      <td>19</td>\n",
       "    </tr>\n",
       "    <tr>\n",
       "      <th>4</th>\n",
       "      <td>70</td>\n",
       "      <td>4</td>\n",
       "    </tr>\n",
       "    <tr>\n",
       "      <th>5</th>\n",
       "      <td>146</td>\n",
       "      <td>101</td>\n",
       "    </tr>\n",
       "    <tr>\n",
       "      <th>6</th>\n",
       "      <td>1</td>\n",
       "      <td>214</td>\n",
       "    </tr>\n",
       "    <tr>\n",
       "      <th>7</th>\n",
       "      <td>105</td>\n",
       "      <td>20</td>\n",
       "    </tr>\n",
       "    <tr>\n",
       "      <th>8</th>\n",
       "      <td>48</td>\n",
       "      <td>32</td>\n",
       "    </tr>\n",
       "    <tr>\n",
       "      <th>9</th>\n",
       "      <td>50</td>\n",
       "      <td>28</td>\n",
       "    </tr>\n",
       "    <tr>\n",
       "      <th>10</th>\n",
       "      <td>26</td>\n",
       "      <td>8</td>\n",
       "    </tr>\n",
       "    <tr>\n",
       "      <th>11</th>\n",
       "      <td>226</td>\n",
       "      <td>22</td>\n",
       "    </tr>\n",
       "    <tr>\n",
       "      <th>12</th>\n",
       "      <td>113</td>\n",
       "      <td>88</td>\n",
       "    </tr>\n",
       "    <tr>\n",
       "      <th>13</th>\n",
       "      <td>134</td>\n",
       "      <td>85</td>\n",
       "    </tr>\n",
       "    <tr>\n",
       "      <th>14</th>\n",
       "      <td>165</td>\n",
       "      <td>90</td>\n",
       "    </tr>\n",
       "    <tr>\n",
       "      <th>15</th>\n",
       "      <td>187</td>\n",
       "      <td>68</td>\n",
       "    </tr>\n",
       "    <tr>\n",
       "      <th>16</th>\n",
       "      <td>21</td>\n",
       "      <td>24</td>\n",
       "    </tr>\n",
       "    <tr>\n",
       "      <th>17</th>\n",
       "      <td>95</td>\n",
       "      <td>189</td>\n",
       "    </tr>\n",
       "    <tr>\n",
       "      <th>18</th>\n",
       "      <td>91</td>\n",
       "      <td>131</td>\n",
       "    </tr>\n",
       "    <tr>\n",
       "      <th>19</th>\n",
       "      <td>78</td>\n",
       "      <td>70</td>\n",
       "    </tr>\n",
       "    <tr>\n",
       "      <th>20</th>\n",
       "      <td>139</td>\n",
       "      <td>102</td>\n",
       "    </tr>\n",
       "    <tr>\n",
       "      <th>21</th>\n",
       "      <td>56</td>\n",
       "      <td>27</td>\n",
       "    </tr>\n",
       "    <tr>\n",
       "      <th>22</th>\n",
       "      <td>28</td>\n",
       "      <td>41</td>\n",
       "    </tr>\n",
       "    <tr>\n",
       "      <th>23</th>\n",
       "      <td>40</td>\n",
       "      <td>23</td>\n",
       "    </tr>\n",
       "    <tr>\n",
       "      <th>24</th>\n",
       "      <td>26</td>\n",
       "      <td>127</td>\n",
       "    </tr>\n",
       "    <tr>\n",
       "      <th>25</th>\n",
       "      <td>132</td>\n",
       "      <td>33</td>\n",
       "    </tr>\n",
       "    <tr>\n",
       "      <th>26</th>\n",
       "      <td>267</td>\n",
       "      <td>7</td>\n",
       "    </tr>\n",
       "    <tr>\n",
       "      <th>27</th>\n",
       "      <td>73</td>\n",
       "      <td>169</td>\n",
       "    </tr>\n",
       "    <tr>\n",
       "      <th>28</th>\n",
       "      <td>3</td>\n",
       "      <td>120</td>\n",
       "    </tr>\n",
       "    <tr>\n",
       "      <th>29</th>\n",
       "      <td>51</td>\n",
       "      <td>116</td>\n",
       "    </tr>\n",
       "    <tr>\n",
       "      <th>30</th>\n",
       "      <td>141</td>\n",
       "      <td>34</td>\n",
       "    </tr>\n",
       "    <tr>\n",
       "      <th>31</th>\n",
       "      <td>122</td>\n",
       "      <td>114</td>\n",
       "    </tr>\n",
       "    <tr>\n",
       "      <th>32</th>\n",
       "      <td>92</td>\n",
       "      <td>130</td>\n",
       "    </tr>\n",
       "    <tr>\n",
       "      <th>33</th>\n",
       "      <td>85</td>\n",
       "      <td>221</td>\n",
       "    </tr>\n",
       "    <tr>\n",
       "      <th>34</th>\n",
       "      <td>82</td>\n",
       "      <td>81</td>\n",
       "    </tr>\n",
       "    <tr>\n",
       "      <th>35</th>\n",
       "      <td>64</td>\n",
       "      <td>4</td>\n",
       "    </tr>\n",
       "    <tr>\n",
       "      <th>36</th>\n",
       "      <td>178</td>\n",
       "      <td>75</td>\n",
       "    </tr>\n",
       "    <tr>\n",
       "      <th>37</th>\n",
       "      <td>117</td>\n",
       "      <td>10</td>\n",
       "    </tr>\n",
       "    <tr>\n",
       "      <th>38</th>\n",
       "      <td>7</td>\n",
       "      <td>89</td>\n",
       "    </tr>\n",
       "    <tr>\n",
       "      <th>39</th>\n",
       "      <td>13</td>\n",
       "      <td>94</td>\n",
       "    </tr>\n",
       "    <tr>\n",
       "      <th>40</th>\n",
       "      <td>26</td>\n",
       "      <td>135</td>\n",
       "    </tr>\n",
       "    <tr>\n",
       "      <th>41</th>\n",
       "      <td>64</td>\n",
       "      <td>26</td>\n",
       "    </tr>\n",
       "    <tr>\n",
       "      <th>42</th>\n",
       "      <td>1</td>\n",
       "      <td>154</td>\n",
       "    </tr>\n",
       "    <tr>\n",
       "      <th>43</th>\n",
       "      <td>214</td>\n",
       "      <td>45</td>\n",
       "    </tr>\n",
       "    <tr>\n",
       "      <th>44</th>\n",
       "      <td>9</td>\n",
       "      <td>149</td>\n",
       "    </tr>\n",
       "    <tr>\n",
       "      <th>45</th>\n",
       "      <td>149</td>\n",
       "      <td>80</td>\n",
       "    </tr>\n",
       "    <tr>\n",
       "      <th>46</th>\n",
       "      <td>4</td>\n",
       "      <td>1</td>\n",
       "    </tr>\n",
       "    <tr>\n",
       "      <th>47</th>\n",
       "      <td>112</td>\n",
       "      <td>67</td>\n",
       "    </tr>\n",
       "    <tr>\n",
       "      <th>48</th>\n",
       "      <td>136</td>\n",
       "      <td>1</td>\n",
       "    </tr>\n",
       "    <tr>\n",
       "      <th>49</th>\n",
       "      <td>93</td>\n",
       "      <td>77</td>\n",
       "    </tr>\n",
       "    <tr>\n",
       "      <th>50</th>\n",
       "      <td>68</td>\n",
       "      <td>75</td>\n",
       "    </tr>\n",
       "    <tr>\n",
       "      <th>51</th>\n",
       "      <td>28</td>\n",
       "      <td>30</td>\n",
       "    </tr>\n",
       "    <tr>\n",
       "      <th>52</th>\n",
       "      <td>136</td>\n",
       "      <td>6</td>\n",
       "    </tr>\n",
       "    <tr>\n",
       "      <th>53</th>\n",
       "      <td>85</td>\n",
       "      <td>4</td>\n",
       "    </tr>\n",
       "    <tr>\n",
       "      <th>54</th>\n",
       "      <td>15</td>\n",
       "      <td>56</td>\n",
       "    </tr>\n",
       "    <tr>\n",
       "      <th>55</th>\n",
       "      <td>153</td>\n",
       "      <td>80</td>\n",
       "    </tr>\n",
       "    <tr>\n",
       "      <th>56</th>\n",
       "      <td>44</td>\n",
       "      <td>10</td>\n",
       "    </tr>\n",
       "    <tr>\n",
       "      <th>57</th>\n",
       "      <td>93</td>\n",
       "      <td>76</td>\n",
       "    </tr>\n",
       "    <tr>\n",
       "      <th>58</th>\n",
       "      <td>63</td>\n",
       "      <td>40</td>\n",
       "    </tr>\n",
       "    <tr>\n",
       "      <th>59</th>\n",
       "      <td>31</td>\n",
       "      <td>25</td>\n",
       "    </tr>\n",
       "  </tbody>\n",
       "</table>\n",
       "</div>"
      ],
      "text/plain": [
       "    Borivali  Andheri\n",
       "0        140        3\n",
       "1        102       38\n",
       "2         37      134\n",
       "3         57       19\n",
       "4         70        4\n",
       "5        146      101\n",
       "6          1      214\n",
       "7        105       20\n",
       "8         48       32\n",
       "9         50       28\n",
       "10        26        8\n",
       "11       226       22\n",
       "12       113       88\n",
       "13       134       85\n",
       "14       165       90\n",
       "15       187       68\n",
       "16        21       24\n",
       "17        95      189\n",
       "18        91      131\n",
       "19        78       70\n",
       "20       139      102\n",
       "21        56       27\n",
       "22        28       41\n",
       "23        40       23\n",
       "24        26      127\n",
       "25       132       33\n",
       "26       267        7\n",
       "27        73      169\n",
       "28         3      120\n",
       "29        51      116\n",
       "30       141       34\n",
       "31       122      114\n",
       "32        92      130\n",
       "33        85      221\n",
       "34        82       81\n",
       "35        64        4\n",
       "36       178       75\n",
       "37       117       10\n",
       "38         7       89\n",
       "39        13       94\n",
       "40        26      135\n",
       "41        64       26\n",
       "42         1      154\n",
       "43       214       45\n",
       "44         9      149\n",
       "45       149       80\n",
       "46         4        1\n",
       "47       112       67\n",
       "48       136        1\n",
       "49        93       77\n",
       "50        68       75\n",
       "51        28       30\n",
       "52       136        6\n",
       "53        85        4\n",
       "54        15       56\n",
       "55       153       80\n",
       "56        44       10\n",
       "57        93       76\n",
       "58        63       40\n",
       "59        31       25"
      ]
     },
     "execution_count": 68,
     "metadata": {},
     "output_type": "execute_result"
    }
   ],
   "source": [
    "df.loc[:,['Borivali','Andheri']] #rows of speicific columns. columns names should be mentioned\n",
    "#df.loc[0:5, 0:2]"
   ]
  },
  {
   "cell_type": "code",
   "execution_count": 69,
   "metadata": {},
   "outputs": [
    {
     "data": {
      "text/html": [
       "<div>\n",
       "<table border=\"1\" class=\"dataframe\">\n",
       "  <thead>\n",
       "    <tr style=\"text-align: right;\">\n",
       "      <th></th>\n",
       "      <th>Borivali</th>\n",
       "      <th>Andheri</th>\n",
       "    </tr>\n",
       "  </thead>\n",
       "  <tbody>\n",
       "    <tr>\n",
       "      <th>0</th>\n",
       "      <td>140</td>\n",
       "      <td>3</td>\n",
       "    </tr>\n",
       "    <tr>\n",
       "      <th>1</th>\n",
       "      <td>102</td>\n",
       "      <td>38</td>\n",
       "    </tr>\n",
       "    <tr>\n",
       "      <th>2</th>\n",
       "      <td>37</td>\n",
       "      <td>134</td>\n",
       "    </tr>\n",
       "    <tr>\n",
       "      <th>3</th>\n",
       "      <td>57</td>\n",
       "      <td>19</td>\n",
       "    </tr>\n",
       "    <tr>\n",
       "      <th>4</th>\n",
       "      <td>70</td>\n",
       "      <td>4</td>\n",
       "    </tr>\n",
       "  </tbody>\n",
       "</table>\n",
       "</div>"
      ],
      "text/plain": [
       "   Borivali  Andheri\n",
       "0       140        3\n",
       "1       102       38\n",
       "2        37      134\n",
       "3        57       19\n",
       "4        70        4"
      ]
     },
     "execution_count": 69,
     "metadata": {},
     "output_type": "execute_result"
    }
   ],
   "source": [
    "df.iloc[0:5,0:2]  #column names should not be mentioned"
   ]
  },
  {
   "cell_type": "code",
   "execution_count": 70,
   "metadata": {
    "collapsed": true
   },
   "outputs": [],
   "source": [
    "df1 = df[:40]   #training data"
   ]
  },
  {
   "cell_type": "code",
   "execution_count": 71,
   "metadata": {},
   "outputs": [
    {
     "data": {
      "text/html": [
       "<div>\n",
       "<table border=\"1\" class=\"dataframe\">\n",
       "  <thead>\n",
       "    <tr style=\"text-align: right;\">\n",
       "      <th></th>\n",
       "      <th>Borivali</th>\n",
       "      <th>Andheri</th>\n",
       "      <th>Bandra</th>\n",
       "      <th>Dadar</th>\n",
       "      <th>Churchgate</th>\n",
       "      <th>class</th>\n",
       "    </tr>\n",
       "  </thead>\n",
       "  <tbody>\n",
       "    <tr>\n",
       "      <th>35</th>\n",
       "      <td>64</td>\n",
       "      <td>4</td>\n",
       "      <td>212</td>\n",
       "      <td>8</td>\n",
       "      <td>112</td>\n",
       "      <td>BBCC</td>\n",
       "    </tr>\n",
       "    <tr>\n",
       "      <th>36</th>\n",
       "      <td>178</td>\n",
       "      <td>75</td>\n",
       "      <td>6</td>\n",
       "      <td>15</td>\n",
       "      <td>126</td>\n",
       "      <td>BACC</td>\n",
       "    </tr>\n",
       "    <tr>\n",
       "      <th>37</th>\n",
       "      <td>117</td>\n",
       "      <td>10</td>\n",
       "      <td>3</td>\n",
       "      <td>250</td>\n",
       "      <td>20</td>\n",
       "      <td>DDCB</td>\n",
       "    </tr>\n",
       "    <tr>\n",
       "      <th>38</th>\n",
       "      <td>7</td>\n",
       "      <td>89</td>\n",
       "      <td>99</td>\n",
       "      <td>156</td>\n",
       "      <td>49</td>\n",
       "      <td>DCbA</td>\n",
       "    </tr>\n",
       "    <tr>\n",
       "      <th>39</th>\n",
       "      <td>13</td>\n",
       "      <td>94</td>\n",
       "      <td>138</td>\n",
       "      <td>6</td>\n",
       "      <td>149</td>\n",
       "      <td>CCbA</td>\n",
       "    </tr>\n",
       "  </tbody>\n",
       "</table>\n",
       "</div>"
      ],
      "text/plain": [
       "    Borivali  Andheri  Bandra  Dadar  Churchgate class\n",
       "35        64        4     212      8         112  BBCC\n",
       "36       178       75       6     15         126  BACC\n",
       "37       117       10       3    250          20  DDCB\n",
       "38         7       89      99    156          49  DCbA\n",
       "39        13       94     138      6         149  CCbA"
      ]
     },
     "execution_count": 71,
     "metadata": {},
     "output_type": "execute_result"
    }
   ],
   "source": [
    "df1.tail()"
   ]
  },
  {
   "cell_type": "code",
   "execution_count": 72,
   "metadata": {
    "collapsed": true
   },
   "outputs": [],
   "source": [
    "df2 = df[40:]   #test data"
   ]
  },
  {
   "cell_type": "code",
   "execution_count": 73,
   "metadata": {},
   "outputs": [
    {
     "data": {
      "text/html": [
       "<div>\n",
       "<table border=\"1\" class=\"dataframe\">\n",
       "  <thead>\n",
       "    <tr style=\"text-align: right;\">\n",
       "      <th></th>\n",
       "      <th>Borivali</th>\n",
       "      <th>Andheri</th>\n",
       "      <th>Bandra</th>\n",
       "      <th>Dadar</th>\n",
       "      <th>Churchgate</th>\n",
       "      <th>class</th>\n",
       "    </tr>\n",
       "  </thead>\n",
       "  <tbody>\n",
       "    <tr>\n",
       "      <th>40</th>\n",
       "      <td>26</td>\n",
       "      <td>135</td>\n",
       "      <td>113</td>\n",
       "      <td>84</td>\n",
       "      <td>42</td>\n",
       "      <td>AbDC</td>\n",
       "    </tr>\n",
       "    <tr>\n",
       "      <th>41</th>\n",
       "      <td>64</td>\n",
       "      <td>26</td>\n",
       "      <td>23</td>\n",
       "      <td>153</td>\n",
       "      <td>134</td>\n",
       "      <td>DCCb</td>\n",
       "    </tr>\n",
       "    <tr>\n",
       "      <th>42</th>\n",
       "      <td>1</td>\n",
       "      <td>154</td>\n",
       "      <td>27</td>\n",
       "      <td>32</td>\n",
       "      <td>186</td>\n",
       "      <td>CAAD</td>\n",
       "    </tr>\n",
       "    <tr>\n",
       "      <th>43</th>\n",
       "      <td>214</td>\n",
       "      <td>45</td>\n",
       "      <td>29</td>\n",
       "      <td>101</td>\n",
       "      <td>11</td>\n",
       "      <td>BBDC</td>\n",
       "    </tr>\n",
       "    <tr>\n",
       "      <th>44</th>\n",
       "      <td>9</td>\n",
       "      <td>149</td>\n",
       "      <td>199</td>\n",
       "      <td>7</td>\n",
       "      <td>36</td>\n",
       "      <td>bbAC</td>\n",
       "    </tr>\n",
       "    <tr>\n",
       "      <th>45</th>\n",
       "      <td>149</td>\n",
       "      <td>80</td>\n",
       "      <td>47</td>\n",
       "      <td>40</td>\n",
       "      <td>84</td>\n",
       "      <td>BCAD</td>\n",
       "    </tr>\n",
       "    <tr>\n",
       "      <th>46</th>\n",
       "      <td>4</td>\n",
       "      <td>1</td>\n",
       "      <td>25</td>\n",
       "      <td>183</td>\n",
       "      <td>187</td>\n",
       "      <td>CCDD</td>\n",
       "    </tr>\n",
       "    <tr>\n",
       "      <th>47</th>\n",
       "      <td>112</td>\n",
       "      <td>67</td>\n",
       "      <td>84</td>\n",
       "      <td>90</td>\n",
       "      <td>47</td>\n",
       "      <td>BDDC</td>\n",
       "    </tr>\n",
       "    <tr>\n",
       "      <th>48</th>\n",
       "      <td>136</td>\n",
       "      <td>1</td>\n",
       "      <td>190</td>\n",
       "      <td>34</td>\n",
       "      <td>39</td>\n",
       "      <td>bBBC</td>\n",
       "    </tr>\n",
       "    <tr>\n",
       "      <th>49</th>\n",
       "      <td>93</td>\n",
       "      <td>77</td>\n",
       "      <td>133</td>\n",
       "      <td>6</td>\n",
       "      <td>91</td>\n",
       "      <td>bBDC</td>\n",
       "    </tr>\n",
       "    <tr>\n",
       "      <th>50</th>\n",
       "      <td>68</td>\n",
       "      <td>75</td>\n",
       "      <td>131</td>\n",
       "      <td>40</td>\n",
       "      <td>86</td>\n",
       "      <td>bCbC</td>\n",
       "    </tr>\n",
       "    <tr>\n",
       "      <th>51</th>\n",
       "      <td>28</td>\n",
       "      <td>30</td>\n",
       "      <td>179</td>\n",
       "      <td>47</td>\n",
       "      <td>116</td>\n",
       "      <td>bCCD</td>\n",
       "    </tr>\n",
       "    <tr>\n",
       "      <th>52</th>\n",
       "      <td>136</td>\n",
       "      <td>6</td>\n",
       "      <td>128</td>\n",
       "      <td>22</td>\n",
       "      <td>108</td>\n",
       "      <td>BCbA</td>\n",
       "    </tr>\n",
       "    <tr>\n",
       "      <th>53</th>\n",
       "      <td>85</td>\n",
       "      <td>4</td>\n",
       "      <td>71</td>\n",
       "      <td>131</td>\n",
       "      <td>109</td>\n",
       "      <td>DCbB</td>\n",
       "    </tr>\n",
       "    <tr>\n",
       "      <th>54</th>\n",
       "      <td>15</td>\n",
       "      <td>56</td>\n",
       "      <td>221</td>\n",
       "      <td>4</td>\n",
       "      <td>104</td>\n",
       "      <td>bCAB</td>\n",
       "    </tr>\n",
       "    <tr>\n",
       "      <th>55</th>\n",
       "      <td>153</td>\n",
       "      <td>80</td>\n",
       "      <td>137</td>\n",
       "      <td>20</td>\n",
       "      <td>10</td>\n",
       "      <td>bBDA</td>\n",
       "    </tr>\n",
       "    <tr>\n",
       "      <th>56</th>\n",
       "      <td>44</td>\n",
       "      <td>10</td>\n",
       "      <td>25</td>\n",
       "      <td>217</td>\n",
       "      <td>104</td>\n",
       "      <td>DCBb</td>\n",
       "    </tr>\n",
       "    <tr>\n",
       "      <th>57</th>\n",
       "      <td>93</td>\n",
       "      <td>76</td>\n",
       "      <td>14</td>\n",
       "      <td>13</td>\n",
       "      <td>204</td>\n",
       "      <td>CCCD</td>\n",
       "    </tr>\n",
       "    <tr>\n",
       "      <th>58</th>\n",
       "      <td>63</td>\n",
       "      <td>40</td>\n",
       "      <td>44</td>\n",
       "      <td>88</td>\n",
       "      <td>165</td>\n",
       "      <td>CCBb</td>\n",
       "    </tr>\n",
       "    <tr>\n",
       "      <th>59</th>\n",
       "      <td>31</td>\n",
       "      <td>25</td>\n",
       "      <td>200</td>\n",
       "      <td>111</td>\n",
       "      <td>33</td>\n",
       "      <td>bbDC</td>\n",
       "    </tr>\n",
       "  </tbody>\n",
       "</table>\n",
       "</div>"
      ],
      "text/plain": [
       "    Borivali  Andheri  Bandra  Dadar  Churchgate class\n",
       "40        26      135     113     84          42  AbDC\n",
       "41        64       26      23    153         134  DCCb\n",
       "42         1      154      27     32         186  CAAD\n",
       "43       214       45      29    101          11  BBDC\n",
       "44         9      149     199      7          36  bbAC\n",
       "45       149       80      47     40          84  BCAD\n",
       "46         4        1      25    183         187  CCDD\n",
       "47       112       67      84     90          47  BDDC\n",
       "48       136        1     190     34          39  bBBC\n",
       "49        93       77     133      6          91  bBDC\n",
       "50        68       75     131     40          86  bCbC\n",
       "51        28       30     179     47         116  bCCD\n",
       "52       136        6     128     22         108  BCbA\n",
       "53        85        4      71    131         109  DCbB\n",
       "54        15       56     221      4         104  bCAB\n",
       "55       153       80     137     20          10  bBDA\n",
       "56        44       10      25    217         104  DCBb\n",
       "57        93       76      14     13         204  CCCD\n",
       "58        63       40      44     88         165  CCBb\n",
       "59        31       25     200    111          33  bbDC"
      ]
     },
     "execution_count": 73,
     "metadata": {},
     "output_type": "execute_result"
    }
   ],
   "source": [
    "df2"
   ]
  },
  {
   "cell_type": "code",
   "execution_count": 74,
   "metadata": {
    "collapsed": true
   },
   "outputs": [],
   "source": [
    "data = df1.ix[:,:-1]"
   ]
  },
  {
   "cell_type": "code",
   "execution_count": 75,
   "metadata": {},
   "outputs": [
    {
     "data": {
      "text/html": [
       "<div>\n",
       "<table border=\"1\" class=\"dataframe\">\n",
       "  <thead>\n",
       "    <tr style=\"text-align: right;\">\n",
       "      <th></th>\n",
       "      <th>Borivali</th>\n",
       "      <th>Andheri</th>\n",
       "      <th>Bandra</th>\n",
       "      <th>Dadar</th>\n",
       "      <th>Churchgate</th>\n",
       "    </tr>\n",
       "  </thead>\n",
       "  <tbody>\n",
       "    <tr>\n",
       "      <th>0</th>\n",
       "      <td>140</td>\n",
       "      <td>3</td>\n",
       "      <td>41</td>\n",
       "      <td>153</td>\n",
       "      <td>63</td>\n",
       "    </tr>\n",
       "    <tr>\n",
       "      <th>1</th>\n",
       "      <td>102</td>\n",
       "      <td>38</td>\n",
       "      <td>224</td>\n",
       "      <td>7</td>\n",
       "      <td>29</td>\n",
       "    </tr>\n",
       "    <tr>\n",
       "      <th>2</th>\n",
       "      <td>37</td>\n",
       "      <td>134</td>\n",
       "      <td>86</td>\n",
       "      <td>125</td>\n",
       "      <td>18</td>\n",
       "    </tr>\n",
       "    <tr>\n",
       "      <th>3</th>\n",
       "      <td>57</td>\n",
       "      <td>19</td>\n",
       "      <td>160</td>\n",
       "      <td>35</td>\n",
       "      <td>129</td>\n",
       "    </tr>\n",
       "    <tr>\n",
       "      <th>4</th>\n",
       "      <td>70</td>\n",
       "      <td>4</td>\n",
       "      <td>91</td>\n",
       "      <td>89</td>\n",
       "      <td>146</td>\n",
       "    </tr>\n",
       "  </tbody>\n",
       "</table>\n",
       "</div>"
      ],
      "text/plain": [
       "   Borivali  Andheri  Bandra  Dadar  Churchgate\n",
       "0       140        3      41    153          63\n",
       "1       102       38     224      7          29\n",
       "2        37      134      86    125          18\n",
       "3        57       19     160     35         129\n",
       "4        70        4      91     89         146"
      ]
     },
     "execution_count": 75,
     "metadata": {},
     "output_type": "execute_result"
    }
   ],
   "source": [
    "data.head()"
   ]
  },
  {
   "cell_type": "code",
   "execution_count": 76,
   "metadata": {
    "collapsed": true
   },
   "outputs": [],
   "source": [
    "label = df1.ix[:,-1:]   "
   ]
  },
  {
   "cell_type": "code",
   "execution_count": 77,
   "metadata": {},
   "outputs": [
    {
     "data": {
      "text/html": [
       "<div>\n",
       "<table border=\"1\" class=\"dataframe\">\n",
       "  <thead>\n",
       "    <tr style=\"text-align: right;\">\n",
       "      <th></th>\n",
       "      <th>class</th>\n",
       "    </tr>\n",
       "  </thead>\n",
       "  <tbody>\n",
       "    <tr>\n",
       "      <th>0</th>\n",
       "      <td>DBCC</td>\n",
       "    </tr>\n",
       "    <tr>\n",
       "      <th>1</th>\n",
       "      <td>bbBC</td>\n",
       "    </tr>\n",
       "    <tr>\n",
       "      <th>2</th>\n",
       "      <td>ADbC</td>\n",
       "    </tr>\n",
       "    <tr>\n",
       "      <th>3</th>\n",
       "      <td>bCCC</td>\n",
       "    </tr>\n",
       "    <tr>\n",
       "      <th>4</th>\n",
       "      <td>CCDC</td>\n",
       "    </tr>\n",
       "  </tbody>\n",
       "</table>\n",
       "</div>"
      ],
      "text/plain": [
       "  class\n",
       "0  DBCC\n",
       "1  bbBC\n",
       "2  ADbC\n",
       "3  bCCC\n",
       "4  CCDC"
      ]
     },
     "execution_count": 77,
     "metadata": {},
     "output_type": "execute_result"
    }
   ],
   "source": [
    "label.head()"
   ]
  },
  {
   "cell_type": "code",
   "execution_count": 78,
   "metadata": {},
   "outputs": [
    {
     "data": {
      "text/plain": [
       "pandas.core.frame.DataFrame"
      ]
     },
     "execution_count": 78,
     "metadata": {},
     "output_type": "execute_result"
    }
   ],
   "source": [
    "type(label)"
   ]
  },
  {
   "cell_type": "code",
   "execution_count": 79,
   "metadata": {
    "collapsed": true
   },
   "outputs": [],
   "source": [
    "#data= data.as_matrix()     # converting dataframe into array"
   ]
  },
  {
   "cell_type": "code",
   "execution_count": 80,
   "metadata": {
    "collapsed": true
   },
   "outputs": [],
   "source": [
    "#type(data)"
   ]
  },
  {
   "cell_type": "code",
   "execution_count": 81,
   "metadata": {},
   "outputs": [],
   "source": [
    "data = data.values"
   ]
  },
  {
   "cell_type": "code",
   "execution_count": 82,
   "metadata": {},
   "outputs": [
    {
     "data": {
      "text/plain": [
       "numpy.ndarray"
      ]
     },
     "execution_count": 82,
     "metadata": {},
     "output_type": "execute_result"
    }
   ],
   "source": [
    "type(data)"
   ]
  },
  {
   "cell_type": "code",
   "execution_count": 83,
   "metadata": {
    "collapsed": true
   },
   "outputs": [],
   "source": [
    "label = label.values"
   ]
  },
  {
   "cell_type": "code",
   "execution_count": 84,
   "metadata": {},
   "outputs": [
    {
     "data": {
      "text/plain": [
       "array([['DBCC'],\n",
       "       ['bbBC'],\n",
       "       ['ADbC'],\n",
       "       ['bCCC'],\n",
       "       ['CCDC'],\n",
       "       ['BACC'],\n",
       "       ['AbAC'],\n",
       "       ['BbCC'],\n",
       "       ['bCCC'],\n",
       "       ['CCCb'],\n",
       "       ['CbCC'],\n",
       "       ['BBDC'],\n",
       "       ['bBBC'],\n",
       "       ['BbCC'],\n",
       "       ['BbCb'],\n",
       "       ['BDAC'],\n",
       "       ['bbDC'],\n",
       "       ['AAbC'],\n",
       "       ['AbAC'],\n",
       "       ['CCAC'],\n",
       "       ['BAbC'],\n",
       "       ['bDCA'],\n",
       "       ['bCCA'],\n",
       "       ['bCCA'],\n",
       "       ['CCAD'],\n",
       "       ['BbbC'],\n",
       "       ['BBDC'],\n",
       "       ['ADDC'],\n",
       "       ['DCCA'],\n",
       "       ['CCAb'],\n",
       "       ['BCDD'],\n",
       "       ['BADC'],\n",
       "       ['ACDB'],\n",
       "       ['AABC'],\n",
       "       ['CCbA'],\n",
       "       ['BBCC'],\n",
       "       ['BACC'],\n",
       "       ['DDCB'],\n",
       "       ['DCbA'],\n",
       "       ['CCbA']], dtype=object)"
      ]
     },
     "execution_count": 84,
     "metadata": {},
     "output_type": "execute_result"
    }
   ],
   "source": [
    "label"
   ]
  },
  {
   "cell_type": "code",
   "execution_count": 85,
   "metadata": {
    "collapsed": true
   },
   "outputs": [],
   "source": [
    "from sklearn.linear_model import LogisticRegression"
   ]
  },
  {
   "cell_type": "code",
   "execution_count": 89,
   "metadata": {
    "collapsed": true
   },
   "outputs": [],
   "source": [
    "label = label.reshape(40,)"
   ]
  },
  {
   "cell_type": "code",
   "execution_count": 90,
   "metadata": {},
   "outputs": [
    {
     "data": {
      "text/plain": [
       "array(['DBCC', 'bbBC', 'ADbC', 'bCCC', 'CCDC', 'BACC', 'AbAC', 'BbCC',\n",
       "       'bCCC', 'CCCb', 'CbCC', 'BBDC', 'bBBC', 'BbCC', 'BbCb', 'BDAC',\n",
       "       'bbDC', 'AAbC', 'AbAC', 'CCAC', 'BAbC', 'bDCA', 'bCCA', 'bCCA',\n",
       "       'CCAD', 'BbbC', 'BBDC', 'ADDC', 'DCCA', 'CCAb', 'BCDD', 'BADC',\n",
       "       'ACDB', 'AABC', 'CCbA', 'BBCC', 'BACC', 'DDCB', 'DCbA', 'CCbA'], dtype=object)"
      ]
     },
     "execution_count": 90,
     "metadata": {},
     "output_type": "execute_result"
    }
   ],
   "source": [
    "label"
   ]
  },
  {
   "cell_type": "code",
   "execution_count": 98,
   "metadata": {
    "collapsed": true
   },
   "outputs": [],
   "source": [
    "da = data.reshape(40,5,)"
   ]
  },
  {
   "cell_type": "code",
   "execution_count": 99,
   "metadata": {},
   "outputs": [
    {
     "data": {
      "text/plain": [
       "array([[140,   3,  41, 153,  63],\n",
       "       [102,  38, 224,   7,  29],\n",
       "       [ 37, 134,  86, 125,  18],\n",
       "       [ 57,  19, 160,  35, 129],\n",
       "       [ 70,   4,  91,  89, 146],\n",
       "       [146, 101,  18,  69,  66],\n",
       "       [  1, 214, 146,  38,   1],\n",
       "       [105,  20, 190,   3,  82],\n",
       "       [ 48,  32, 157,  23, 140],\n",
       "       [ 50,  28,  26,  27, 269],\n",
       "       [ 26,   8, 125,  90, 151],\n",
       "       [226,  22,  93,  37,  22],\n",
       "       [113,  88, 139,  24,  36],\n",
       "       [134,  85,  41,  67,  73],\n",
       "       [165,  90,  50,  71,  24],\n",
       "       [187,  68,   4, 116,  25],\n",
       "       [ 21,  24, 218, 115,  22],\n",
       "       [ 95, 189,  26,  40,  50],\n",
       "       [ 91, 131, 101,  49,  28],\n",
       "       [ 78,  70,   2,  99, 151],\n",
       "       [139, 102,  90,  56,  13],\n",
       "       [ 56,  27, 159,  62,  96],\n",
       "       [ 28,  41, 188,  39, 104],\n",
       "       [ 40,  23, 140,  36, 161],\n",
       "       [ 26, 127,   5,  46, 196],\n",
       "       [132,  33, 109,  55,  71],\n",
       "       [267,   7,   6,  71,  49],\n",
       "       [ 73, 169,  20, 105,  33],\n",
       "       [  3, 120,  24, 137, 116],\n",
       "       [ 51, 116,  29,  20, 184],\n",
       "       [141,  34,  64,  72,  89],\n",
       "       [122, 114,  19,  84,  61],\n",
       "       [ 92, 130,  52,  30,  96],\n",
       "       [ 85, 221,   1,  36,  57],\n",
       "       [ 82,  81,  63,  14, 160],\n",
       "       [ 64,   4, 212,   8, 112],\n",
       "       [178,  75,   6,  15, 126],\n",
       "       [117,  10,   3, 250,  20],\n",
       "       [  7,  89,  99, 156,  49],\n",
       "       [ 13,  94, 138,   6, 149]], dtype=int64)"
      ]
     },
     "execution_count": 99,
     "metadata": {},
     "output_type": "execute_result"
    }
   ],
   "source": [
    "da"
   ]
  },
  {
   "cell_type": "code",
   "execution_count": 100,
   "metadata": {
    "collapsed": true
   },
   "outputs": [],
   "source": [
    "model = LogisticRegression()"
   ]
  },
  {
   "cell_type": "code",
   "execution_count": 101,
   "metadata": {},
   "outputs": [
    {
     "data": {
      "text/plain": [
       "LogisticRegression(C=1.0, class_weight=None, dual=False, fit_intercept=True,\n",
       "          intercept_scaling=1, max_iter=100, multi_class='ovr', n_jobs=1,\n",
       "          penalty='l2', random_state=None, solver='liblinear', tol=0.0001,\n",
       "          verbose=0, warm_start=False)"
      ]
     },
     "execution_count": 101,
     "metadata": {},
     "output_type": "execute_result"
    }
   ],
   "source": [
    "model.fit(data, label)"
   ]
  },
  {
   "cell_type": "code",
   "execution_count": 104,
   "metadata": {},
   "outputs": [
    {
     "data": {
      "text/plain": [
       "array(['BbCC'], dtype=object)"
      ]
     },
     "execution_count": 104,
     "metadata": {},
     "output_type": "execute_result"
    }
   ],
   "source": [
    "model.predict([[25,100,100,75,100]])"
   ]
  },
  {
   "cell_type": "code",
   "execution_count": 105,
   "metadata": {},
   "outputs": [
    {
     "data": {
      "text/plain": [
       "'BbCC'"
      ]
     },
     "execution_count": 105,
     "metadata": {},
     "output_type": "execute_result"
    }
   ],
   "source": [
    "model.predict([[25,100,100,75,100]])[0] #logistic regression"
   ]
  },
  {
   "cell_type": "code",
   "execution_count": 106,
   "metadata": {
    "collapsed": true
   },
   "outputs": [],
   "source": [
    "from sklearn.externals import joblib"
   ]
  },
  {
   "cell_type": "code",
   "execution_count": 107,
   "metadata": {},
   "outputs": [
    {
     "data": {
      "text/plain": [
       "['logre.pkl']"
      ]
     },
     "execution_count": 107,
     "metadata": {},
     "output_type": "execute_result"
    }
   ],
   "source": [
    "joblib.dump(model,'logre.pkl')"
   ]
  },
  {
   "cell_type": "code",
   "execution_count": 108,
   "metadata": {
    "collapsed": true
   },
   "outputs": [],
   "source": [
    "model2 = joblib.load('logre.pkl')"
   ]
  },
  {
   "cell_type": "code",
   "execution_count": 109,
   "metadata": {},
   "outputs": [
    {
     "data": {
      "text/plain": [
       "'BbCC'"
      ]
     },
     "execution_count": 109,
     "metadata": {},
     "output_type": "execute_result"
    }
   ],
   "source": [
    "model2.predict([[25,100,100,75,100]])[0]"
   ]
  },
  {
   "cell_type": "code",
   "execution_count": 43,
   "metadata": {
    "collapsed": true
   },
   "outputs": [],
   "source": [
    "from sklearn.naive_bayes import GaussianNB "
   ]
  },
  {
   "cell_type": "code",
   "execution_count": 44,
   "metadata": {
    "collapsed": true
   },
   "outputs": [],
   "source": [
    "model1 = GaussianNB()"
   ]
  },
  {
   "cell_type": "code",
   "execution_count": 45,
   "metadata": {},
   "outputs": [
    {
     "data": {
      "text/plain": [
       "GaussianNB(priors=None)"
      ]
     },
     "execution_count": 45,
     "metadata": {},
     "output_type": "execute_result"
    }
   ],
   "source": [
    "model1.fit(data, label)"
   ]
  },
  {
   "cell_type": "code",
   "execution_count": 46,
   "metadata": {},
   "outputs": [
    {
     "data": {
      "text/plain": [
       "'BbCC'"
      ]
     },
     "execution_count": 46,
     "metadata": {},
     "output_type": "execute_result"
    }
   ],
   "source": [
    "model1.predict([[25,100,100,75,100]])[0]"
   ]
  },
  {
   "cell_type": "code",
   "execution_count": 118,
   "metadata": {
    "collapsed": true
   },
   "outputs": [],
   "source": [
    "data2 = df2.ix[:,:-1]"
   ]
  },
  {
   "cell_type": "code",
   "execution_count": 119,
   "metadata": {
    "collapsed": true
   },
   "outputs": [],
   "source": [
    "label2 = df2.ix[:,-1:]"
   ]
  },
  {
   "cell_type": "code",
   "execution_count": 120,
   "metadata": {},
   "outputs": [
    {
     "data": {
      "text/html": [
       "<div>\n",
       "<table border=\"1\" class=\"dataframe\">\n",
       "  <thead>\n",
       "    <tr style=\"text-align: right;\">\n",
       "      <th></th>\n",
       "      <th>class</th>\n",
       "    </tr>\n",
       "  </thead>\n",
       "  <tbody>\n",
       "    <tr>\n",
       "      <th>40</th>\n",
       "      <td>AbDC</td>\n",
       "    </tr>\n",
       "    <tr>\n",
       "      <th>41</th>\n",
       "      <td>DCCb</td>\n",
       "    </tr>\n",
       "    <tr>\n",
       "      <th>42</th>\n",
       "      <td>CAAD</td>\n",
       "    </tr>\n",
       "    <tr>\n",
       "      <th>43</th>\n",
       "      <td>BBDC</td>\n",
       "    </tr>\n",
       "    <tr>\n",
       "      <th>44</th>\n",
       "      <td>bbAC</td>\n",
       "    </tr>\n",
       "    <tr>\n",
       "      <th>45</th>\n",
       "      <td>BCAD</td>\n",
       "    </tr>\n",
       "    <tr>\n",
       "      <th>46</th>\n",
       "      <td>CCDD</td>\n",
       "    </tr>\n",
       "    <tr>\n",
       "      <th>47</th>\n",
       "      <td>BDDC</td>\n",
       "    </tr>\n",
       "    <tr>\n",
       "      <th>48</th>\n",
       "      <td>bBBC</td>\n",
       "    </tr>\n",
       "    <tr>\n",
       "      <th>49</th>\n",
       "      <td>bBDC</td>\n",
       "    </tr>\n",
       "    <tr>\n",
       "      <th>50</th>\n",
       "      <td>bCbC</td>\n",
       "    </tr>\n",
       "    <tr>\n",
       "      <th>51</th>\n",
       "      <td>bCCD</td>\n",
       "    </tr>\n",
       "    <tr>\n",
       "      <th>52</th>\n",
       "      <td>BCbA</td>\n",
       "    </tr>\n",
       "    <tr>\n",
       "      <th>53</th>\n",
       "      <td>DCbB</td>\n",
       "    </tr>\n",
       "    <tr>\n",
       "      <th>54</th>\n",
       "      <td>bCAB</td>\n",
       "    </tr>\n",
       "    <tr>\n",
       "      <th>55</th>\n",
       "      <td>bBDA</td>\n",
       "    </tr>\n",
       "    <tr>\n",
       "      <th>56</th>\n",
       "      <td>DCBb</td>\n",
       "    </tr>\n",
       "    <tr>\n",
       "      <th>57</th>\n",
       "      <td>CCCD</td>\n",
       "    </tr>\n",
       "    <tr>\n",
       "      <th>58</th>\n",
       "      <td>CCBb</td>\n",
       "    </tr>\n",
       "    <tr>\n",
       "      <th>59</th>\n",
       "      <td>bbDC</td>\n",
       "    </tr>\n",
       "  </tbody>\n",
       "</table>\n",
       "</div>"
      ],
      "text/plain": [
       "   class\n",
       "40  AbDC\n",
       "41  DCCb\n",
       "42  CAAD\n",
       "43  BBDC\n",
       "44  bbAC\n",
       "45  BCAD\n",
       "46  CCDD\n",
       "47  BDDC\n",
       "48  bBBC\n",
       "49  bBDC\n",
       "50  bCbC\n",
       "51  bCCD\n",
       "52  BCbA\n",
       "53  DCbB\n",
       "54  bCAB\n",
       "55  bBDA\n",
       "56  DCBb\n",
       "57  CCCD\n",
       "58  CCBb\n",
       "59  bbDC"
      ]
     },
     "execution_count": 120,
     "metadata": {},
     "output_type": "execute_result"
    }
   ],
   "source": [
    "label2"
   ]
  },
  {
   "cell_type": "code",
   "execution_count": 121,
   "metadata": {},
   "outputs": [],
   "source": [
    "data2 = data2.values"
   ]
  },
  {
   "cell_type": "code",
   "execution_count": 122,
   "metadata": {},
   "outputs": [],
   "source": [
    "label2 = label2.values"
   ]
  },
  {
   "cell_type": "code",
   "execution_count": 123,
   "metadata": {
    "collapsed": true
   },
   "outputs": [],
   "source": [
    "expected = label2"
   ]
  },
  {
   "cell_type": "code",
   "execution_count": 124,
   "metadata": {
    "collapsed": true
   },
   "outputs": [],
   "source": [
    "predicted=model.predict(data2)"
   ]
  },
  {
   "cell_type": "code",
   "execution_count": 125,
   "metadata": {},
   "outputs": [
    {
     "data": {
      "text/plain": [
       "array(['BbCC', 'CbCC', 'CCAD', 'BAbC', 'AbAC', 'BbCC', 'CbCC', 'BbCC',\n",
       "       'DBCC', 'CCbA', 'BbCC', 'bCCA', 'BbCC', 'CCDC', 'bCCA', 'AbAC',\n",
       "       'CbCC', 'CCbA', 'BCDD', 'bbDC'], dtype=object)"
      ]
     },
     "execution_count": 125,
     "metadata": {},
     "output_type": "execute_result"
    }
   ],
   "source": [
    "predicted"
   ]
  },
  {
   "cell_type": "code",
   "execution_count": 126,
   "metadata": {},
   "outputs": [
    {
     "data": {
      "text/plain": [
       "20"
      ]
     },
     "execution_count": 126,
     "metadata": {},
     "output_type": "execute_result"
    }
   ],
   "source": [
    "len(predicted)"
   ]
  },
  {
   "cell_type": "code",
   "execution_count": 127,
   "metadata": {},
   "outputs": [
    {
     "data": {
      "text/plain": [
       "array([['AbDC'],\n",
       "       ['DCCb'],\n",
       "       ['CAAD'],\n",
       "       ['BBDC'],\n",
       "       ['bbAC'],\n",
       "       ['BCAD'],\n",
       "       ['CCDD'],\n",
       "       ['BDDC'],\n",
       "       ['bBBC'],\n",
       "       ['bBDC'],\n",
       "       ['bCbC'],\n",
       "       ['bCCD'],\n",
       "       ['BCbA'],\n",
       "       ['DCbB'],\n",
       "       ['bCAB'],\n",
       "       ['bBDA'],\n",
       "       ['DCBb'],\n",
       "       ['CCCD'],\n",
       "       ['CCBb'],\n",
       "       ['bbDC']], dtype=object)"
      ]
     },
     "execution_count": 127,
     "metadata": {},
     "output_type": "execute_result"
    }
   ],
   "source": [
    "expected"
   ]
  },
  {
   "cell_type": "code",
   "execution_count": 130,
   "metadata": {},
   "outputs": [
    {
     "name": "stdout",
     "output_type": "stream",
     "text": [
      "1\n"
     ]
    }
   ],
   "source": [
    "a = 0\n",
    "for i, j in zip(expected, predicted):\n",
    "    if i == j:\n",
    "        a = a + 1\n",
    "        print(a)"
   ]
  },
  {
   "cell_type": "code",
   "execution_count": 87,
   "metadata": {},
   "outputs": [
    {
     "data": {
      "text/plain": [
       "[array(['bbDC'], dtype=object)]"
      ]
     },
     "execution_count": 87,
     "metadata": {},
     "output_type": "execute_result"
    }
   ],
   "source": [
    "[i for i, j in zip(expected, predicted) if i == j]"
   ]
  },
  {
   "cell_type": "code",
   "execution_count": 57,
   "metadata": {
    "collapsed": true
   },
   "outputs": [],
   "source": [
    "from sklearn import model_selection"
   ]
  },
  {
   "cell_type": "code",
   "execution_count": 58,
   "metadata": {},
   "outputs": [
    {
     "name": "stdout",
     "output_type": "stream",
     "text": [
      "0.075 0.114564392374\n"
     ]
    }
   ],
   "source": [
    "seed = 7\n",
    "scoring = \"accuracy\"\n",
    "models = LogisticRegression()\n",
    "kfold = model_selection.KFold(n_splits=10, random_state=seed)\n",
    "cv_results = model_selection.cross_val_score(models, data, label, cv=kfold, scoring=scoring)\n",
    "print(cv_results.mean(), cv_results.std())"
   ]
  },
  {
   "cell_type": "code",
   "execution_count": 62,
   "metadata": {
    "collapsed": true
   },
   "outputs": [],
   "source": [
    "from sklearn.metrics import accuracy_score"
   ]
  },
  {
   "cell_type": "code",
   "execution_count": 63,
   "metadata": {},
   "outputs": [
    {
     "name": "stdout",
     "output_type": "stream",
     "text": [
      "0.05\n"
     ]
    }
   ],
   "source": [
    "print(accuracy_score(expected, predicted))"
   ]
  },
  {
   "cell_type": "code",
   "execution_count": 85,
   "metadata": {
    "collapsed": true
   },
   "outputs": [],
   "source": [
    "from sklearn import metrics"
   ]
  },
  {
   "cell_type": "code",
   "execution_count": 86,
   "metadata": {},
   "outputs": [
    {
     "name": "stdout",
     "output_type": "stream",
     "text": [
      "             precision    recall  f1-score   support\n",
      "\n",
      "       AbAC       0.00      0.00      0.00         0\n",
      "       AbDC       0.00      0.00      0.00         1\n",
      "       BAbC       0.00      0.00      0.00         0\n",
      "       BBDC       0.00      0.00      0.00         1\n",
      "       BCAD       0.00      0.00      0.00         1\n",
      "       BCDD       0.00      0.00      0.00         0\n",
      "       BCbA       0.00      0.00      0.00         1\n",
      "       BDDC       0.00      0.00      0.00         1\n",
      "       BbCC       0.00      0.00      0.00         0\n",
      "       CAAD       0.00      0.00      0.00         1\n",
      "       CCAD       0.00      0.00      0.00         0\n",
      "       CCBb       0.00      0.00      0.00         1\n",
      "       CCCD       0.00      0.00      0.00         1\n",
      "       CCDC       0.00      0.00      0.00         0\n",
      "       CCDD       0.00      0.00      0.00         1\n",
      "       CCbA       0.00      0.00      0.00         0\n",
      "       CbCC       0.00      0.00      0.00         0\n",
      "       DBCC       0.00      0.00      0.00         0\n",
      "       DCBb       0.00      0.00      0.00         1\n",
      "       DCCb       0.00      0.00      0.00         1\n",
      "       DCbB       0.00      0.00      0.00         1\n",
      "       bBBC       0.00      0.00      0.00         1\n",
      "       bBDA       0.00      0.00      0.00         1\n",
      "       bBDC       0.00      0.00      0.00         1\n",
      "       bCAB       0.00      0.00      0.00         1\n",
      "       bCCA       0.00      0.00      0.00         0\n",
      "       bCCD       0.00      0.00      0.00         1\n",
      "       bCbC       0.00      0.00      0.00         1\n",
      "       bbAC       0.00      0.00      0.00         1\n",
      "       bbDC       1.00      1.00      1.00         1\n",
      "\n",
      "avg / total       0.05      0.05      0.05        20\n",
      "\n"
     ]
    },
    {
     "name": "stderr",
     "output_type": "stream",
     "text": [
      "c:\\users\\dhvani\\appdata\\local\\programs\\python\\python35\\lib\\site-packages\\sklearn\\metrics\\classification.py:1113: UndefinedMetricWarning: Precision and F-score are ill-defined and being set to 0.0 in labels with no predicted samples.\n",
      "  'precision', 'predicted', average, warn_for)\n",
      "c:\\users\\dhvani\\appdata\\local\\programs\\python\\python35\\lib\\site-packages\\sklearn\\metrics\\classification.py:1115: UndefinedMetricWarning: Recall and F-score are ill-defined and being set to 0.0 in labels with no true samples.\n",
      "  'recall', 'true', average, warn_for)\n"
     ]
    }
   ],
   "source": [
    "print(metrics.classification_report(expected, predicted))"
   ]
  },
  {
   "cell_type": "code",
   "execution_count": 98,
   "metadata": {},
   "outputs": [
    {
     "name": "stdout",
     "output_type": "stream",
     "text": [
      "[[0 0 0 0 0 0 0 0 0 0 0 0 0 0 0 0 0 0 0 0 0 0 0 0 0 0 0 0 0 0]\n",
      " [0 0 0 0 0 0 0 0 1 0 0 0 0 0 0 0 0 0 0 0 0 0 0 0 0 0 0 0 0 0]\n",
      " [0 0 0 0 0 0 0 0 0 0 0 0 0 0 0 0 0 0 0 0 0 0 0 0 0 0 0 0 0 0]\n",
      " [0 0 1 0 0 0 0 0 0 0 0 0 0 0 0 0 0 0 0 0 0 0 0 0 0 0 0 0 0 0]\n",
      " [0 0 0 0 0 0 0 0 1 0 0 0 0 0 0 0 0 0 0 0 0 0 0 0 0 0 0 0 0 0]\n",
      " [0 0 0 0 0 0 0 0 0 0 0 0 0 0 0 0 0 0 0 0 0 0 0 0 0 0 0 0 0 0]\n",
      " [0 0 0 0 0 0 0 0 1 0 0 0 0 0 0 0 0 0 0 0 0 0 0 0 0 0 0 0 0 0]\n",
      " [0 0 0 0 0 0 0 0 1 0 0 0 0 0 0 0 0 0 0 0 0 0 0 0 0 0 0 0 0 0]\n",
      " [0 0 0 0 0 0 0 0 0 0 0 0 0 0 0 0 0 0 0 0 0 0 0 0 0 0 0 0 0 0]\n",
      " [0 0 0 0 0 0 0 0 0 0 1 0 0 0 0 0 0 0 0 0 0 0 0 0 0 0 0 0 0 0]\n",
      " [0 0 0 0 0 0 0 0 0 0 0 0 0 0 0 0 0 0 0 0 0 0 0 0 0 0 0 0 0 0]\n",
      " [0 0 0 0 0 1 0 0 0 0 0 0 0 0 0 0 0 0 0 0 0 0 0 0 0 0 0 0 0 0]\n",
      " [0 0 0 0 0 0 0 0 0 0 0 0 0 0 0 1 0 0 0 0 0 0 0 0 0 0 0 0 0 0]\n",
      " [0 0 0 0 0 0 0 0 0 0 0 0 0 0 0 0 0 0 0 0 0 0 0 0 0 0 0 0 0 0]\n",
      " [0 0 0 0 0 0 0 0 0 0 0 0 0 0 0 0 1 0 0 0 0 0 0 0 0 0 0 0 0 0]\n",
      " [0 0 0 0 0 0 0 0 0 0 0 0 0 0 0 0 0 0 0 0 0 0 0 0 0 0 0 0 0 0]\n",
      " [0 0 0 0 0 0 0 0 0 0 0 0 0 0 0 0 0 0 0 0 0 0 0 0 0 0 0 0 0 0]\n",
      " [0 0 0 0 0 0 0 0 0 0 0 0 0 0 0 0 0 0 0 0 0 0 0 0 0 0 0 0 0 0]\n",
      " [0 0 0 0 0 0 0 0 0 0 0 0 0 0 0 0 1 0 0 0 0 0 0 0 0 0 0 0 0 0]\n",
      " [0 0 0 0 0 0 0 0 0 0 0 0 0 0 0 0 1 0 0 0 0 0 0 0 0 0 0 0 0 0]\n",
      " [0 0 0 0 0 0 0 0 0 0 0 0 0 1 0 0 0 0 0 0 0 0 0 0 0 0 0 0 0 0]\n",
      " [0 0 0 0 0 0 0 0 0 0 0 0 0 0 0 0 0 1 0 0 0 0 0 0 0 0 0 0 0 0]\n",
      " [1 0 0 0 0 0 0 0 0 0 0 0 0 0 0 0 0 0 0 0 0 0 0 0 0 0 0 0 0 0]\n",
      " [0 0 0 0 0 0 0 0 0 0 0 0 0 0 0 1 0 0 0 0 0 0 0 0 0 0 0 0 0 0]\n",
      " [0 0 0 0 0 0 0 0 0 0 0 0 0 0 0 0 0 0 0 0 0 0 0 0 0 1 0 0 0 0]\n",
      " [0 0 0 0 0 0 0 0 0 0 0 0 0 0 0 0 0 0 0 0 0 0 0 0 0 0 0 0 0 0]\n",
      " [0 0 0 0 0 0 0 0 0 0 0 0 0 0 0 0 0 0 0 0 0 0 0 0 0 1 0 0 0 0]\n",
      " [0 0 0 0 0 0 0 0 1 0 0 0 0 0 0 0 0 0 0 0 0 0 0 0 0 0 0 0 0 0]\n",
      " [1 0 0 0 0 0 0 0 0 0 0 0 0 0 0 0 0 0 0 0 0 0 0 0 0 0 0 0 0 0]\n",
      " [0 0 0 0 0 0 0 0 0 0 0 0 0 0 0 0 0 0 0 0 0 0 0 0 0 0 0 0 0 1]]\n"
     ]
    }
   ],
   "source": [
    "print(metrics.confusion_matrix(expected, predicted))"
   ]
  },
  {
   "cell_type": "code",
   "execution_count": 145,
   "metadata": {
    "collapsed": true
   },
   "outputs": [],
   "source": [
    "from sklearn.svm import SVC"
   ]
  },
  {
   "cell_type": "code",
   "execution_count": 146,
   "metadata": {
    "collapsed": true
   },
   "outputs": [],
   "source": [
    "model2 = SVC()"
   ]
  },
  {
   "cell_type": "code",
   "execution_count": 152,
   "metadata": {},
   "outputs": [
    {
     "name": "stderr",
     "output_type": "stream",
     "text": [
      "c:\\users\\rajan jha\\appdata\\local\\programs\\python\\python35\\lib\\site-packages\\sklearn\\utils\\validation.py:526: DataConversionWarning: A column-vector y was passed when a 1d array was expected. Please change the shape of y to (n_samples, ), for example using ravel().\n",
      "  y = column_or_1d(y, warn=True)\n"
     ]
    }
   ],
   "source": [
    "classifier=model2.fit(data, label)"
   ]
  },
  {
   "cell_type": "code",
   "execution_count": 153,
   "metadata": {},
   "outputs": [
    {
     "name": "stderr",
     "output_type": "stream",
     "text": [
      "c:\\users\\rajan jha\\appdata\\local\\programs\\python\\python35\\lib\\site-packages\\sklearn\\utils\\validation.py:395: DeprecationWarning: Passing 1d arrays as data is deprecated in 0.17 and will raise ValueError in 0.19. Reshape your data either using X.reshape(-1, 1) if your data has a single feature or X.reshape(1, -1) if it contains a single sample.\n",
      "  DeprecationWarning)\n"
     ]
    },
    {
     "data": {
      "text/plain": [
       "'bCCC'"
      ]
     },
     "execution_count": 153,
     "metadata": {},
     "output_type": "execute_result"
    }
   ],
   "source": [
    "classifier.predict([140, 160 ,50, 25 ,25])[0]"
   ]
  },
  {
   "cell_type": "code",
   "execution_count": 150,
   "metadata": {},
   "outputs": [
    {
     "ename": "ImportError",
     "evalue": "cannot import name 'cPickle'",
     "output_type": "error",
     "traceback": [
      "\u001b[1;31m---------------------------------------------------------------------------\u001b[0m",
      "\u001b[1;31mImportError\u001b[0m                               Traceback (most recent call last)",
      "\u001b[1;32m<ipython-input-150-1b6f0c65f3cb>\u001b[0m in \u001b[0;36m<module>\u001b[1;34m()\u001b[0m\n\u001b[1;32m----> 1\u001b[1;33m \u001b[1;32mfrom\u001b[0m \u001b[0msklearn\u001b[0m \u001b[1;32mimport\u001b[0m \u001b[0mcPickle\u001b[0m\u001b[1;33m\u001b[0m\u001b[0m\n\u001b[0m",
      "\u001b[1;31mImportError\u001b[0m: cannot import name 'cPickle'"
     ]
    }
   ],
   "source": [
    "from sklearn import cPickle"
   ]
  },
  {
   "cell_type": "code",
   "execution_count": 151,
   "metadata": {
    "collapsed": true
   },
   "outputs": [],
   "source": [
    "import pickle"
   ]
  },
  {
   "cell_type": "code",
   "execution_count": 157,
   "metadata": {
    "collapsed": true
   },
   "outputs": [],
   "source": [
    "save_clf = open('classifier.pickle', 'wb')\n",
    "pickle.dump(classifier, save_clf,protocol=2)\n",
    "save_clf.close()"
   ]
  },
  {
   "cell_type": "code",
   "execution_count": 155,
   "metadata": {
    "collapsed": true
   },
   "outputs": [],
   "source": [
    "a=[124,150,50,25,25]"
   ]
  },
  {
   "cell_type": "code",
   "execution_count": 89,
   "metadata": {
    "collapsed": true
   },
   "outputs": [],
   "source": [
    "import tensorflow as tf"
   ]
  },
  {
   "cell_type": "code",
   "execution_count": 91,
   "metadata": {
    "collapsed": true
   },
   "outputs": [],
   "source": [
    "import tflearn"
   ]
  },
  {
   "cell_type": "code",
   "execution_count": 92,
   "metadata": {
    "collapsed": true
   },
   "outputs": [],
   "source": [
    "dataframe = pd.read_csv('abhishek.csv')\n"
   ]
  },
  {
   "cell_type": "code",
   "execution_count": 102,
   "metadata": {},
   "outputs": [
    {
     "data": {
      "text/plain": [
       "<bound method Series.unique of 0     140\n",
       "1     102\n",
       "2      37\n",
       "3      57\n",
       "4      70\n",
       "5     146\n",
       "6       1\n",
       "7     105\n",
       "8      48\n",
       "9      50\n",
       "10     26\n",
       "11    226\n",
       "12    113\n",
       "13    134\n",
       "14    165\n",
       "15    187\n",
       "16     21\n",
       "17     95\n",
       "18     91\n",
       "19     78\n",
       "20    139\n",
       "21     56\n",
       "22     28\n",
       "23     40\n",
       "24     26\n",
       "25    132\n",
       "26    267\n",
       "27     73\n",
       "28      3\n",
       "29     51\n",
       "30    141\n",
       "31    122\n",
       "32     92\n",
       "33     85\n",
       "34     82\n",
       "35     64\n",
       "36    178\n",
       "37    117\n",
       "38      7\n",
       "39     13\n",
       "40     26\n",
       "41     64\n",
       "42      1\n",
       "43    214\n",
       "44      9\n",
       "45    149\n",
       "46      4\n",
       "47    112\n",
       "48    136\n",
       "49     93\n",
       "50     68\n",
       "51     28\n",
       "52    136\n",
       "53     85\n",
       "54     15\n",
       "55    153\n",
       "56     44\n",
       "57     93\n",
       "58     63\n",
       "59     31\n",
       "Name: Borivali, dtype: int64>"
      ]
     },
     "execution_count": 102,
     "metadata": {},
     "output_type": "execute_result"
    }
   ],
   "source": [
    "df.Borivali.unique"
   ]
  },
  {
   "cell_type": "code",
   "execution_count": 103,
   "metadata": {},
   "outputs": [
    {
     "name": "stdout",
     "output_type": "stream",
     "text": [
      "__main__\n"
     ]
    }
   ],
   "source": [
    "print(__name__)"
   ]
  },
  {
   "cell_type": "code",
   "execution_count": 105,
   "metadata": {
    "collapsed": true
   },
   "outputs": [],
   "source": [
    "from tflearn.data_utils import load_csv"
   ]
  },
  {
   "cell_type": "code",
   "execution_count": 106,
   "metadata": {
    "collapsed": true
   },
   "outputs": [],
   "source": [
    "data,label = load_csv(\"abhishek.csv\")"
   ]
  },
  {
   "cell_type": "code",
   "execution_count": null,
   "metadata": {
    "collapsed": true
   },
   "outputs": [],
   "source": []
  }
 ],
 "metadata": {
  "kernelspec": {
   "display_name": "Python 3",
   "language": "python",
   "name": "python3"
  },
  "language_info": {
   "codemirror_mode": {
    "name": "ipython",
    "version": 3
   },
   "file_extension": ".py",
   "mimetype": "text/x-python",
   "name": "python",
   "nbconvert_exporter": "python",
   "pygments_lexer": "ipython3",
   "version": "3.5.2"
  }
 },
 "nbformat": 4,
 "nbformat_minor": 2
}
